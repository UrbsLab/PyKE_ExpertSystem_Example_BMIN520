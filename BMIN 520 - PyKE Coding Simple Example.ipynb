{
 "cells": [
  {
   "cell_type": "markdown",
   "metadata": {},
   "source": [
    "# PyKE Coding Simple Example\n",
    "- Course: BMIN 520 (AI 1: Fundamentals of Artificial Intelligence)\n",
    "- Institution: University of Pennsylvania\n",
    "- Course Director: Ryan Urbanowicz, PhD\n",
    "- Due date: NA"
   ]
  },
  {
   "cell_type": "markdown",
   "metadata": {},
   "source": [
    "---\n",
    "## Subtask 1 - Learn how to code your own basic backward chaining expert system:\n",
    "\n",
    "A very simple set of code has been provided as template for how to create your own backward chaining expert system.  Specifically this system decides what you should bring when walking out of the house (i.e. an umbrella, a raincoat, or nothing). This in the zipped folder 'simple_bc_all'. Follow the instructions below:\n",
    "- Unzip this folder and copy it into your working directory.\n",
    "- Examine 'facts.kfb' in a text or python editor.\n",
    "    - To simplify things, this file hard codes all the facts (about the weather) that are needed to make the decision of what to bring outside.\n",
    "    - Note that the text, 'True' or 'False' is intended to be used in these facts.  \n",
    "- Examine 'bc_simple_rules.krb' in a text or python editor.\n",
    "    - Each of the four code chunks represent backward chaining rules\n",
    "    - Syntax of a PyKE rule:\n",
    "        - The first line gives a unique rule name\n",
    "        - The next line is the 'THEN' part of the rule, designated by the word 'use'.\n",
    "        - The next third line is the 'IF' part of the rule, designated by the word 'when'.\n",
    "            - Each subsequent line is an 'IF' condition that must be satified for the 'THEN' part of the rule to be satisfied.\n",
    "            - Note that whenever a fact from the fact base is to be sought, the line begins with the name of the fact base and a '.', (i.e. facts.)\n",
    "            \n",
    "- Examine 'driver_simple.py' in a text or python editor.\n",
    "    - This code initializes the PyKE engine, and includes a function, 'bc_test', to run the expert system. It is very similar to the functions introduced in the PyKE family relationship examples.\n",
    "    - Comments have been added to this code to point out the lines that you will need to edit later to make your own simple expert system.\n",
    "- Edit the path (in the sys.path.append()) to the 'simple_bc_all' folder, to match the folder hierarchy on your computer.\n",
    "- Run the cell below to confirm that it is working. \n",
    "    - Since the fact base indicates that it is both raining and windy, the system should indicate that a raincoat should be brought."
   ]
  },
  {
   "cell_type": "code",
   "execution_count": 1,
   "metadata": {},
   "outputs": [
    {
     "name": "stdout",
     "output_type": "stream",
     "text": [
      "doing proof\n",
      "You should bring: raincoat\n",
      "\n",
      "done\n"
     ]
    }
   ],
   "source": [
    "#Run this cell\n",
    "import sys\n",
    "# The following command points your notebook to the location of a folder outside your working directory that you want to import.\n",
    "sys.path.append('C:/home/work/teaching/courses/BMIN 520 IntroToAI/2021/Assignments/Assignment 3 Expert Systems/simple_bc_all')\n",
    "#sys.path.append('yourpath')\n",
    "import driver_simple\n",
    "\n",
    "driver_simple.bc_test()\n"
   ]
  },
  {
   "cell_type": "markdown",
   "metadata": {},
   "source": [
    "---\n",
    "## Subtask 2 - Learn how to give PyKE the ability to ask questions:\n",
    "Next we will extend the example above so that we will have PyKE ask the user questions along the way rather than hard code facts in a fact base (which is tedious for real world applications). All the code for this is already included in 'simple_bc_all'.\n",
    "- Examine 'questions.kqb' in a text or python editor.\n",
    "    - The system has been set up to ask three different questions, returning the answer to the rule base.\n",
    "    - Both yes/no (i.e. True/False) and selection 1 questions are asked as examples.\n",
    "- Examine 'bc_simple_rules_questions.krb' in a text or python editor.\n",
    "    - Each of the six code chunks represent backward chaining rules\n",
    "    - The backward chaining rule syntax is the same as above.\n",
    "        - Note that whenever a question is to be asked to satisfy an 'IF' condition, the line begins with the name of the question base and a '.', (i.e. questions.)\n",
    "  \n",
    "- Again examine 'driver_simple.py' in a text or python editor.\n",
    "    - This code initializes the PyKE engine, and includes a second function, 'bc_test_questions', to run the expert system. The only change to this function is the name of the rule base that is activated.\n",
    "- Edit and run the cell below to confirm that it is working. \n",
    "    - When run you should be prompted to answer questions, and when satisfied the system will respond with a suggestion of 'what to bring'.\n",
    "    - Try running this cell a few times, testing out different inputs to questions.\n",
    "    - You can also copy the code below into individual cells below and run answer the questions separately each time to save all of the results from each trial."
   ]
  },
  {
   "cell_type": "code",
   "execution_count": 3,
   "metadata": {},
   "outputs": [
    {
     "name": "stdout",
     "output_type": "stream",
     "text": [
      "doing proof\n",
      "______________________________________________________________________________\n",
      "Is it raining? (y/n) y\n",
      "______________________________________________________________________________\n",
      "Is it windy? (y/n) y\n",
      "You should bring: umbrella\n",
      "______________________________________________________________________________\n",
      "Are any of the following disasters currently occurring?\n",
      "  1. Forest Fire\n",
      "  2. Tornado\n",
      "  3. Hurricane\n",
      "  4. Pandemic\n",
      "  5. None of the above\n",
      "? [1-5] 1\n",
      "You should bring: marshmellos\n",
      "\n",
      "done\n"
     ]
    }
   ],
   "source": [
    "driver_simple.bc_test_questions()"
   ]
  },
  {
   "cell_type": "code",
   "execution_count": 3,
   "metadata": {},
   "outputs": [
    {
     "name": "stdout",
     "output_type": "stream",
     "text": [
      "doing proof\n",
      "______________________________________________________________________________\n",
      "Is it raining? (y/n) y\n",
      "______________________________________________________________________________\n",
      "Is it windy? (y/n) n\n",
      "You should bring: raincoat\n",
      "______________________________________________________________________________\n",
      "Are any of the following disasters currently occurring?\n",
      "  1. Forest Fire\n",
      "  2. Tornado\n",
      "  3. Hurricane\n",
      "  4. Pandemic\n",
      "  5. None of the above\n",
      "? [1-5] 2\n",
      "You should bring: kite\n",
      "\n",
      "done\n"
     ]
    }
   ],
   "source": [
    "driver_simple.bc_test_questions()"
   ]
  }
 ],
 "metadata": {
  "kernelspec": {
   "display_name": "Python 3",
   "language": "python",
   "name": "python3"
  },
  "language_info": {
   "codemirror_mode": {
    "name": "ipython",
    "version": 3
   },
   "file_extension": ".py",
   "mimetype": "text/x-python",
   "name": "python",
   "nbconvert_exporter": "python",
   "pygments_lexer": "ipython3",
   "version": "3.8.5"
  }
 },
 "nbformat": 4,
 "nbformat_minor": 2
}
