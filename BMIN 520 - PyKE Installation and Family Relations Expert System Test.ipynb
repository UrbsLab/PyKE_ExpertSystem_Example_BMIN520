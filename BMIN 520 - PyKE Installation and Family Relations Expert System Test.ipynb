{
 "cells": [
  {
   "cell_type": "markdown",
   "metadata": {},
   "source": [
    "# PyKE Installation and Family Relations Expert System Test\n",
    "- Course: BMIN 520 (AI 1: Fundamentals of Artificial Intelligence)\n",
    "- Institution: University of Pennsylvania\n",
    "- Course Director: Ryan Urbanowicz, PhD\n",
    "- Due date: NA"
   ]
  },
  {
   "cell_type": "markdown",
   "metadata": {},
   "source": [
    "---\n",
    "## Subtask 1 - Install PyKE:\n",
    "- PyKE is an expert system interpreter and coding framework that we will use in this course to learn how to build and run a simple expert system.  PyKE was chosen because it operates exclusively in Python (and unlike PyCLIPS, it works in Python 3). Probably the most commonly used expert system framework today is called CLIPS, however this is a C coding language interpreted system. If you want to (optionally) check out CLIPS, see the link below:\n",
    "\n",
    "- Link: CLIPS website http://clipsrules.sourceforge.net/\n",
    "\n",
    "Download the Python expert system framework called Pyke (for Python 3.7).  Pyke stands for Python Knowledge Engine. For general information and background on Pyke check out the link below:\n",
    "\n",
    "- Link: Pyke information page and tutorials http://pyke.sourceforge.net/index.html\n",
    "\n",
    "The information at the above link may be helpful when completing problems involving PyKE below.\n",
    "\n",
    "### Installation Instructions\n",
    "1. Download pyke3-1.1.1.zip from https://sourceforge.net/projects/pyke/files/pyke/1.1.1/\n",
    "2. Unzip pyke3-1.1.1.zip (if you are unfamiliar with how to unzip a file see https://www.wikihow.com/Unzip-a-File)\n",
    "3. Check the unzipped folder to ensure its contents include folders by the name of (build, doc, examples, experimental, pyke, Test) along with a number of other files including README.txt. (Note when working with newly installed code, the README file includes important information on how to get started with and run the code) \n",
    "4. Copy the folder with these PyKE files to where ever you wish to work from (i.e. your working directory).\n",
    "5. Open your computer's command line (outside of this notebook) and navigate to the location of the copied PyKE folder (i.e. within the folder pyke-1.1.1 that contains the file 'setup'.\n",
    "6. Run the following commands (one at a time) in your command line to build and install PyKE:\n",
    "    - <font color='green'>python setup.py build  </font>  \n",
    "    - <font color='green'>python setup.py install  </font>  \n",
    "7. Take a look at the pyke example folder '/examples/family_relations/'.\n",
    "    - Within that folder you should see 7 files including '<font color='green'>driver.py </font> '\n",
    "        - There are three kinds of Pyke source files:\n",
    "            - .kfb files define fact bases\n",
    "            - .krb files define rule bases\n",
    "            - .kqb files define question bases\n",
    "    - Open and read the README files in this family_relations folder for an explanation of the different files and a set of examples that may be run. \n",
    "8. Copy your unique path to this '/family_relations/' into the 'sys.path.append()' command in subtask 3.  I've left how I did this on my computer as an example.\n",
    "7. If these steps have been completed successfully then you should be able to run the commands in the cells below..."
   ]
  },
  {
   "cell_type": "markdown",
   "metadata": {},
   "source": [
    "## Subtask 2 - Import Key PyKE packages for test examples\n",
    "This 'driver.py' module was written as a PyKE example to conduct forward and backward chaining to determine the family relations between people. This is a very simple example of an expert system. You are encouraged to open and examine 'driver.py' in a Python or text editor, to get an idea of what it includes and how it is organized. This file gives simple examples of something you might code to operate your own expert system.\n",
    "\n",
    "- <font color='green'>family.kfb </font> is a fact base that includes family relationships that do not change and are always available to the system.\n",
    "    - Only two types of relationships have been introduced by the creator of this expert system (daughter_of, son_of)\n",
    "    - Facts are represented/coded in the following manner\n",
    "        - daughter_of(daughter, father, mother)\n",
    "        - son_of(son, father, mother)\n",
    "    - Specific examples from this file include:\n",
    "        - son_of(matt, ralph, anne)\n",
    "        - daughter_of(sarah_a, val, donna)\n",
    "        \n",
    "- This file will be utilized by the expert system in all the tests below\n",
    "- The following tasks are meant to give you a feel for how to to run and what goes into coding an expert system, as well as to confirm that PyKE has been successfully installed and is running correctly on your computer."
   ]
  },
  {
   "cell_type": "code",
   "execution_count": 5,
   "metadata": {},
   "outputs": [],
   "source": [
    "#Run this cell\n",
    "import sys\n",
    "# The following command points your notebook to the location of a folder outside your working directory that you want to import.\n",
    "sys.path.append('C:/home/work/teaching/courses/BMIN 520 IntroToAI/2021/Assignments/Assignment 3 Expert Systems/PyKE/pyke-1.1.1/examples/family_relations')\n",
    "#sys.path.append('yourpath')\n",
    "import driver"
   ]
  },
  {
   "cell_type": "markdown",
   "metadata": {},
   "source": [
    "## Subtask 3 - Test of family relations using forward chaining\n",
    "'driver.py' includes a number of test functions that the creater coded to try out the different mechanisms of their family relationship expert system.  Here we test the first function, meant to perform forward chaining. \n",
    "\n",
    "- <font color='green'>fc_example.krb </font> is a rule base intended for forward chaining.\n",
    "- Check out this file to get an idea of the types of rules that are included to establish different types of family relationships, that work with people as variables (as we saw in first order propositional logic). \n",
    "- Below we run three tests of the function called 'fc_test(), set up to run forward chaining with the goal of reporting how the target person (given as an argument in the function), is related to anyone else based on the facts and rules in the knowledge base (i.e. family.kfb and fc_example.krb).\n",
    "    - When the first test is run, the example below should indicate that michael_k is father to three daughters (i.e. amanda, tammy, and crystal). \n",
    "    - The remaining output gives a report from the inference engine. This will show how many facts were asserted, and counts of how many forward-chaining rules were fired and rerun, as well as counts of how many backward-chaining goals were tried, and how many backward-chaining rules matched, succeeded and failed. "
   ]
  },
  {
   "cell_type": "markdown",
   "metadata": {},
   "source": [
    "### Test 1"
   ]
  },
  {
   "cell_type": "code",
   "execution_count": 6,
   "metadata": {
    "scrolled": true
   },
   "outputs": [
    {
     "name": "stdout",
     "output_type": "stream",
     "text": [
      "doing proof\n",
      "michael_k, amanda are ('father', 'daughter')\n",
      "michael_k, tammy are ('father', 'daughter')\n",
      "michael_k, crystal are ('father', 'daughter')\n",
      "\n",
      "done\n",
      "family: 9 fact names, 94 universal facts, 6920 case_specific facts\n",
      "fc_example: 20 fc_rules, 6772 triggered, 892 rerun\n",
      "fc_example: 0 bc_rules, 0 goals, 0 rules matched\n",
      "            0 successes, 0 failures\n",
      "fc time 0.34, 20482 asserts/sec\n"
     ]
    }
   ],
   "source": [
    "# Run this cell\n",
    "driver.fc_test('michael_k') "
   ]
  },
  {
   "cell_type": "markdown",
   "metadata": {},
   "source": [
    "### Test 2\n",
    "In this second test, we simply demonstrate what happens when a name is given that doesn't appear in the fact base."
   ]
  },
  {
   "cell_type": "code",
   "execution_count": 7,
   "metadata": {},
   "outputs": [
    {
     "name": "stdout",
     "output_type": "stream",
     "text": [
      "doing proof\n",
      "\n",
      "done\n",
      "family: 9 fact names, 94 universal facts, 6920 case_specific facts\n",
      "fc_example: 20 fc_rules, 6772 triggered, 892 rerun\n",
      "fc_example: 0 bc_rules, 0 goals, 0 rules matched\n",
      "            0 successes, 0 failures\n",
      "fc time 0.35, 19999 asserts/sec\n"
     ]
    }
   ],
   "source": [
    "# Run this cell\n",
    "driver.fc_test('ryan') "
   ]
  },
  {
   "cell_type": "markdown",
   "metadata": {},
   "source": [
    "### Test 3\n",
    "Here we demonstrate what happens when no argument is given. Here a default name ('bruce') has been hard coded into 'driver.py' Thus the system will report the results for that default name. "
   ]
  },
  {
   "cell_type": "code",
   "execution_count": 8,
   "metadata": {},
   "outputs": [
    {
     "name": "stdout",
     "output_type": "stream",
     "text": [
      "doing proof\n",
      "bruce, thomas are ('son', 'father')\n",
      "bruce, norma are ('son', 'mother')\n",
      "bruce, frederik are (('grand', 'son'), ('grand', 'father'))\n",
      "bruce, mary are (('grand', 'son'), ('grand', 'mother'))\n",
      "bruce, allen are (('grand', 'son'), ('grand', 'father'))\n",
      "bruce, ismay are (('grand', 'son'), ('grand', 'mother'))\n",
      "bruce, m_thomas are ('father', 'son')\n",
      "bruce, david_a are ('father', 'son')\n",
      "bruce, fred_a are ('brother', 'brother')\n",
      "bruce, tim are ('brother', 'brother')\n",
      "bruce, vicki are ('brother', 'sister')\n",
      "bruce, jill are ('brother', 'sister')\n",
      "bruce, joyce are ('nephew', 'aunt')\n",
      "bruce, phyllis are ('nephew', 'aunt')\n",
      "bruce, john_w are ('nephew', 'uncle')\n",
      "bruce, bill are ('nephew', 'uncle')\n",
      "bruce, chuck_w are ('nephew', 'uncle')\n",
      "bruce, david_c are ('1st', 'cousins')\n",
      "bruce, danny are ('1st', 'cousins')\n",
      "bruce, dee are ('1st', 'cousins')\n",
      "bruce, mitch are ('1st', 'cousins')\n",
      "bruce, jonni are ('1st', 'cousins')\n",
      "bruce, lorri are ('1st', 'cousins')\n",
      "bruce, steve_w are ('1st', 'cousins')\n",
      "bruce, jim are ('1st', 'cousins')\n",
      "bruce, jeri are ('1st', 'cousins')\n",
      "bruce, annette are ('1st', 'cousins')\n",
      "bruce, helen_w are ('1st', 'cousins')\n",
      "bruce, mary_w are ('1st', 'cousins')\n",
      "bruce, charli are ('1st', 'cousins', 1, 'removed')\n",
      "bruce, jimjim are ('1st', 'cousins', 1, 'removed')\n",
      "bruce, johnjohn are ('1st', 'cousins', 1, 'removed')\n",
      "bruce, jamie are ('1st', 'cousins', 1, 'removed')\n",
      "bruce, david_w are ('1st', 'cousins', 1, 'removed')\n",
      "bruce, jessica are ('1st', 'cousins', 1, 'removed')\n",
      "bruce, bridget are ('1st', 'cousins', 1, 'removed')\n",
      "bruce, brian2 are ('1st', 'cousins', 1, 'removed')\n",
      "bruce, victoria are ('1st', 'cousins', 1, 'removed')\n",
      "\n",
      "done\n",
      "family: 9 fact names, 94 universal facts, 6920 case_specific facts\n",
      "fc_example: 20 fc_rules, 6772 triggered, 892 rerun\n",
      "fc_example: 0 bc_rules, 0 goals, 0 rules matched\n",
      "            0 successes, 0 failures\n",
      "fc time 0.35, 19807 asserts/sec\n"
     ]
    }
   ],
   "source": [
    "# Run this cell\n",
    "driver.fc_test() "
   ]
  },
  {
   "cell_type": "markdown",
   "metadata": {},
   "source": [
    "## Subtask 4 - Test of family relations using backward chaining\n",
    "Here we try out the second test function, bc_test(), meant for backward chaining.\n",
    "- <font color='green'>bc_example.krb </font> is a rule base intended for backward chaining\n",
    "- Check out this file. Note the slightly different format of these rules\n",
    "    - bc_test() has been set up with the same goal of reporting how the target person is related to anyone else based on the knowledge in the fact base and the relationship rules specified in fc_example.krb. \n",
    "    - When we repeat the test for 'michael_k', the example below should again indicate that michael_k is father to three daughters (i.e. amanda, tammy, and crystal).\n",
    "    - Notice that the inference engine now reports activation of backward chaining rules.\n",
    "- Note that in 'driver', there is another test function, bc2_test(), that uses a different rule file bc2_example.krb. \n",
    "    - These are intended to be a more efficient implementation of backward chaining.\n",
    "    - Efficiency of code is largely beyond the scope of this course, but feel free to examine this code if interested. "
   ]
  },
  {
   "cell_type": "markdown",
   "metadata": {},
   "source": [
    "### Test 1"
   ]
  },
  {
   "cell_type": "code",
   "execution_count": 9,
   "metadata": {},
   "outputs": [
    {
     "name": "stdout",
     "output_type": "stream",
     "text": [
      "doing proof\n",
      "michael_k, amanda are ('father', 'daughter')\n",
      "michael_k, tammy are ('father', 'daughter')\n",
      "michael_k, crystal are ('father', 'daughter')\n",
      "\n",
      "done\n",
      "bc_example: 0 fc_rules, 0 triggered, 0 rerun\n",
      "bc_example: 26 bc_rules, 5034 goals, 17901 rules matched\n",
      "            3569 successes, 17901 failures\n",
      "family: 9 fact names, 94 universal facts, 0 case_specific facts\n",
      "bc time 0.36, 13898 goals/sec\n"
     ]
    }
   ],
   "source": [
    "driver.bc_test('michael_k') "
   ]
  },
  {
   "cell_type": "markdown",
   "metadata": {},
   "source": [
    "### Test 2\n",
    "Another example with a new name"
   ]
  },
  {
   "cell_type": "code",
   "execution_count": 10,
   "metadata": {},
   "outputs": [
    {
     "name": "stdout",
     "output_type": "stream",
     "text": [
      "doing proof\n",
      "gary, justin_m are ('father', 'son')\n",
      "\n",
      "done\n",
      "bc_example: 0 fc_rules, 0 triggered, 0 rerun\n",
      "bc_example: 26 bc_rules, 5034 goals, 17901 rules matched\n",
      "            3563 successes, 17901 failures\n",
      "family: 9 fact names, 94 universal facts, 0 case_specific facts\n",
      "bc time 0.36, 13956 goals/sec\n"
     ]
    }
   ],
   "source": [
    "# uses bc_example.krb\n",
    "driver.bc_test('gary') "
   ]
  },
  {
   "cell_type": "markdown",
   "metadata": {},
   "source": [
    "## Subtask 5 - Test of family relations with the ability to do both forward and backward chaining\n",
    "Here we try out a third test function, test(), capable of running both forward and backward chaining simultaneously.\n",
    "- <font color='green'>example.krb </font> is a rule base intended for both forward and backward chaining\n",
    "- Check out this file. Note the slightly different format of these rules, where rules have been combined from both the forward and backward chaining rule files.  \n",
    "- Additionally output of the functions below has been altered to look more like a natural sentence (but not but much)."
   ]
  },
  {
   "cell_type": "code",
   "execution_count": 11,
   "metadata": {},
   "outputs": [
    {
     "name": "stdout",
     "output_type": "stream",
     "text": [
      "doing proof\n",
      "gary, justin_m are father, son\n",
      "\n",
      "done\n",
      "example: 6 fc_rules, 262 triggered, 0 rerun\n",
      "example: 21 bc_rules, 2827 goals, 6220 rules matched\n",
      "         1411 successes, 6220 failures\n",
      "family: 9 fact names, 94 universal facts, 422 case_specific facts\n",
      "fc time 0.01, 70305 asserts/sec\n",
      "bc time 0.22, 12618 goals/sec\n",
      "total time 0.23\n"
     ]
    }
   ],
   "source": [
    "# uses example.krb\n",
    "driver.test('gary')"
   ]
  },
  {
   "cell_type": "markdown",
   "metadata": {},
   "source": [
    "## Subtask 6 - Completed family relations expert system using backward chaining\n",
    "Here we try out the fourth function in 'driver'. This is the authors 'final' implementation of their expert system driving code.\n",
    "- <font color='green'>bc2_example.krb </font> is a rule base intended for backward chaining\n",
    "- Check out this file to get an idea of the types of rules that are included to establish different types of family relationships, that work with people as variables. \n",
    "- This function, called 'general' takes the name of up to two people and asks whether they have some specific relationship between them."
   ]
  },
  {
   "cell_type": "code",
   "execution_count": 12,
   "metadata": {},
   "outputs": [
    {
     "name": "stdout",
     "output_type": "stream",
     "text": [
      "doing proof\n",
      "bruce, david_a are ('father', 'son')\n",
      "\n",
      "done\n",
      "bc2_example: 0 fc_rules, 0 triggered, 0 rerun\n",
      "bc2_example: 29 bc_rules, 200 goals, 797 rules matched\n",
      "             131 successes, 797 failures\n",
      "family: 9 fact names, 94 universal facts, 0 case_specific facts\n",
      "bc time 0.03, 6666 goals/sec\n"
     ]
    }
   ],
   "source": [
    "# uses bc2_example.krb\n",
    "driver.general(person1='bruce', person2='david_a', relationship=('father', 'son')) "
   ]
  },
  {
   "cell_type": "code",
   "execution_count": 13,
   "metadata": {},
   "outputs": [
    {
     "name": "stdout",
     "output_type": "stream",
     "text": [
      "doing proof\n",
      "bruce, m_thomas are ('father', 'son')\n",
      "bruce, david_a are ('father', 'son')\n",
      "\n",
      "done\n",
      "bc2_example: 0 fc_rules, 0 triggered, 0 rerun\n",
      "bc2_example: 29 bc_rules, 105 goals, 390 rules matched\n",
      "             82 successes, 390 failures\n",
      "family: 9 fact names, 94 universal facts, 0 case_specific facts\n",
      "bc time 0.01, 10493 goals/sec\n"
     ]
    }
   ],
   "source": [
    "# uses bc2_example.krb\n",
    "driver.general(person1='bruce', relationship=('father', 'son')) "
   ]
  },
  {
   "cell_type": "code",
   "execution_count": null,
   "metadata": {},
   "outputs": [],
   "source": []
  }
 ],
 "metadata": {
  "kernelspec": {
   "display_name": "Python 3",
   "language": "python",
   "name": "python3"
  },
  "language_info": {
   "codemirror_mode": {
    "name": "ipython",
    "version": 3
   },
   "file_extension": ".py",
   "mimetype": "text/x-python",
   "name": "python",
   "nbconvert_exporter": "python",
   "pygments_lexer": "ipython3",
   "version": "3.8.5"
  }
 },
 "nbformat": 4,
 "nbformat_minor": 2
}
